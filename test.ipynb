{
 "cells": [
  {
   "cell_type": "code",
   "execution_count": 1,
   "metadata": {},
   "outputs": [
    {
     "name": "stdout",
     "output_type": "stream",
     "text": [
      "<class 'pandas.core.frame.DataFrame'>\n",
      "RangeIndex: 178265 entries, 0 to 178264\n",
      "Data columns (total 8 columns):\n",
      " #   Column             Non-Null Count   Dtype \n",
      "---  ------             --------------   ----- \n",
      " 0   id                 178265 non-null  int64 \n",
      " 1   i                  178265 non-null  int64 \n",
      " 2   name_tokens        178265 non-null  object\n",
      " 3   ingredient_tokens  178265 non-null  object\n",
      " 4   steps_tokens       178265 non-null  object\n",
      " 5   techniques         178265 non-null  object\n",
      " 6   calorie_level      178265 non-null  int64 \n",
      " 7   ingredient_ids     178265 non-null  object\n",
      "dtypes: int64(3), object(5)\n",
      "memory usage: 10.9+ MB\n"
     ]
    }
   ],
   "source": [
    "import pandas as pd\n",
    "\n",
    "PP_recipes = pd.read_csv('PP_recipes.csv')\n",
    "PP_recipes.head()\n",
    "PP_recipes.info()"
   ]
  }
 ],
 "metadata": {
  "kernelspec": {
   "display_name": "Python 3",
   "language": "python",
   "name": "python3"
  },
  "language_info": {
   "codemirror_mode": {
    "name": "ipython",
    "version": 3
   },
   "file_extension": ".py",
   "mimetype": "text/x-python",
   "name": "python",
   "nbconvert_exporter": "python",
   "pygments_lexer": "ipython3",
   "version": "3.10.5"
  }
 },
 "nbformat": 4,
 "nbformat_minor": 2
}
